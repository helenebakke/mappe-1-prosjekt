{
 "cells": [
  {
   "cell_type": "code",
   "execution_count": null,
   "metadata": {},
   "outputs": [],
   "source": [
    "API_KEY = \"https://api.met.no/weatherapi/oceanforecast/2.0/complete?lat=60.10&lon=5\"\n",
    "DATABASE_URL = \"https://api.met.no/weatherapi/oceanforecast/2.0/documentation\"\n"
   ]
  }
 ],
 "metadata": {
  "language_info": {
   "name": "python"
  }
 },
 "nbformat": 4,
 "nbformat_minor": 2
}
